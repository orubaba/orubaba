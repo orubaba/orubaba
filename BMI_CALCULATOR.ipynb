{
  "nbformat": 4,
  "nbformat_minor": 0,
  "metadata": {
    "colab": {
      "name": "BMI_CALCULATOR.ipynb",
      "provenance": [],
      "collapsed_sections": [],
      "authorship_tag": "ABX9TyOTC7HHpQ6Y4Sj7vSx6W3+9",
      "include_colab_link": true
    },
    "kernelspec": {
      "name": "python3",
      "display_name": "Python 3"
    },
    "language_info": {
      "name": "python"
    }
  },
  "cells": [
    {
      "cell_type": "markdown",
      "metadata": {
        "id": "view-in-github",
        "colab_type": "text"
      },
      "source": [
        "<a href=\"https://colab.research.google.com/github/orubaba/orubaba/blob/main/BMI_CALCULATOR.ipynb\" target=\"_parent\"><img src=\"https://colab.research.google.com/assets/colab-badge.svg\" alt=\"Open In Colab\"/></a>"
      ]
    },
    {
      "cell_type": "code",
      "execution_count": 1,
      "metadata": {
        "id": "Qnv9l4_MBO0h"
      },
      "outputs": [],
      "source": [
        "def bmi_calculator(name, height_m, weight_kg):\n",
        "  bmi = weight_kg / (height_m ** 2)\n",
        "  print(f'bmi: {bmi}')\n",
        "  #print(bmi)\n",
        "  if bmi < 16:\n",
        "    return name + \" is severely underweight\"\n",
        "  elif bmi >= 16 and bmi <= 17:\n",
        "    return name + \" is moderately underweight\"\n",
        "  elif bmi > 17 and bmi < 18.6:\n",
        "    return name + \" is mildly underweight\"\n",
        "  elif bmi >=18.6 and bmi <= 25:\n",
        "    return name + \" : you are good to go pal\"\n",
        "  elif bmi >25 and bmi <= 30:\n",
        "    return name + \" is overweight\"\n",
        "  elif bmi > 30 and bmi < 35:\n",
        "    return name + \" is mildly obese: class 1 obesity pal. work on it\"\n",
        "  elif bmi > 36 and bmi <= 40:\n",
        "    return name + \" : you are obese: class 2 obesity pal. work on it\"\n",
        "  else:\n",
        "    return name + \" you should consider reducing this and get a good health because, I'm sorry to say: YOU ARE TOP TIER OBESE. LIFE SOMETIMES IS MORE IMPORTANT THAN FOOD SILLY!!! :(\""
      ]
    },
    {
      "cell_type": "code",
      "source": [
        "name1 = 'John'\n",
        "height_m1 = 1.82\n",
        "weight_kg1 = 75\n",
        "\n",
        "name2 = 'Anna'\n",
        "height_m2 = 1.21\n",
        "weight_kg2 = 117\n",
        "\n",
        "name3 = 'Charley'\n",
        "height_m3 = 1.83\n",
        "weight_kg3 = 107\n",
        "\n",
        "name4 = 'Charisa'\n",
        "height_m4 = 1.69\n",
        "weight_kg4 = 117"
      ],
      "metadata": {
        "id": "g9AQikkWChq1"
      },
      "execution_count": 6,
      "outputs": []
    },
    {
      "cell_type": "code",
      "source": [
        "bmi_calculator(name1, height_m1, weight_kg1)\n"
      ],
      "metadata": {
        "colab": {
          "base_uri": "https://localhost:8080/",
          "height": 53
        },
        "id": "C8WbRVXpNS2v",
        "outputId": "a9012451-9337-437b-d57b-48cd01430f05"
      },
      "execution_count": 7,
      "outputs": [
        {
          "output_type": "stream",
          "name": "stdout",
          "text": [
            "bmi: 22.6421929718633\n"
          ]
        },
        {
          "output_type": "execute_result",
          "data": {
            "text/plain": [
              "'John : you are good to go pal'"
            ],
            "application/vnd.google.colaboratory.intrinsic+json": {
              "type": "string"
            }
          },
          "metadata": {},
          "execution_count": 7
        }
      ]
    },
    {
      "cell_type": "code",
      "source": [
        "bmi_calculator(name2, height_m2, weight_kg2)\n"
      ],
      "metadata": {
        "colab": {
          "base_uri": "https://localhost:8080/",
          "height": 53
        },
        "id": "jrRH6Ru6N6GI",
        "outputId": "dd5985f4-94c4-4841-8c78-431450972607"
      },
      "execution_count": 8,
      "outputs": [
        {
          "output_type": "stream",
          "name": "stdout",
          "text": [
            "bmi: 79.91257427771328\n"
          ]
        },
        {
          "output_type": "execute_result",
          "data": {
            "text/plain": [
              "\"Anna you should consider reducing this and get a good health because, I'm sorry to say: YOU ARE TOP TIER OBESE. LIFE SOMETIMES IS MORE IMPORTANT THAN FOOD SILLY!!! :(\""
            ],
            "application/vnd.google.colaboratory.intrinsic+json": {
              "type": "string"
            }
          },
          "metadata": {},
          "execution_count": 8
        }
      ]
    },
    {
      "cell_type": "code",
      "source": [
        "bmi_calculator(name3, height_m3, weight_kg3)"
      ],
      "metadata": {
        "colab": {
          "base_uri": "https://localhost:8080/",
          "height": 53
        },
        "id": "dCBKiEqcOLHv",
        "outputId": "75d7f55d-3b11-400a-8a04-a682b75f97e9"
      },
      "execution_count": 9,
      "outputs": [
        {
          "output_type": "stream",
          "name": "stdout",
          "text": [
            "bmi: 31.950789811579916\n"
          ]
        },
        {
          "output_type": "execute_result",
          "data": {
            "text/plain": [
              "'Charley is mildly obese: class 1 obesity pal. work on it'"
            ],
            "application/vnd.google.colaboratory.intrinsic+json": {
              "type": "string"
            }
          },
          "metadata": {},
          "execution_count": 9
        }
      ]
    },
    {
      "cell_type": "code",
      "source": [
        "bmi_calculator(name4, height_m4, weight_kg4)"
      ],
      "metadata": {
        "colab": {
          "base_uri": "https://localhost:8080/",
          "height": 53
        },
        "id": "q1kWeYETJFd9",
        "outputId": "0de8094d-508d-4ab6-99d3-d55f1c96d920"
      },
      "execution_count": 10,
      "outputs": [
        {
          "output_type": "stream",
          "name": "stdout",
          "text": [
            "bmi: 40.96495220755576\n"
          ]
        },
        {
          "output_type": "execute_result",
          "data": {
            "text/plain": [
              "\"Charisa you should consider reducing this and get a good health because, I'm sorry to say: YOU ARE TOP TIER OBESE. LIFE SOMETIMES IS MORE IMPORTANT THAN FOOD SILLY!!! :(\""
            ],
            "application/vnd.google.colaboratory.intrinsic+json": {
              "type": "string"
            }
          },
          "metadata": {},
          "execution_count": 10
        }
      ]
    }
  ]
}