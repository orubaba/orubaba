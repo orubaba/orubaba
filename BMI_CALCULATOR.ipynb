{
  "nbformat": 4,
  "nbformat_minor": 0,
  "metadata": {
    "colab": {
      "name": "BMI_CALCULATOR.ipynb",
      "provenance": [],
      "authorship_tag": "ABX9TyNJRl9o1Amv8oNsn+Q6dd2k",
      "include_colab_link": true
    },
    "kernelspec": {
      "name": "python3",
      "display_name": "Python 3"
    },
    "language_info": {
      "name": "python"
    }
  },
  "cells": [
    {
      "cell_type": "markdown",
      "metadata": {
        "id": "view-in-github",
        "colab_type": "text"
      },
      "source": [
        "<a href=\"https://colab.research.google.com/github/orubaba/orubaba/blob/main/BMI_CALCULATOR.ipynb\" target=\"_parent\"><img src=\"https://colab.research.google.com/assets/colab-badge.svg\" alt=\"Open In Colab\"/></a>"
      ]
    },
    {
      "cell_type": "code",
      "execution_count": 1,
      "metadata": {
        "id": "Qnv9l4_MBO0h"
      },
      "outputs": [],
      "source": [
        "def bmi_calculator(name, height_m, weight_kg):\n",
        "  bmi = weight_kg / (height_m ** 2)\n",
        "  print(f'bmi: {bmi}')\n",
        "  #print(bmi)\n",
        "  if bmi < 25:\n",
        "    return name + \" is not overweight\"\n",
        "  else:\n",
        "    return name + \" is overweight\""
      ]
    },
    {
      "cell_type": "code",
      "source": [
        "name1 = 'John'\n",
        "height_m1 = 1.82\n",
        "weight_kg1 = 100\n",
        "\n",
        "name2 = 'Anna'\n",
        "height_m2 = 1.21\n",
        "weight_kg2 = 100\n",
        "\n",
        "name3 = 'Charley'\n",
        "height_m3 = 1.98\n",
        "weight_kg3 = 97"
      ],
      "metadata": {
        "id": "g9AQikkWChq1"
      },
      "execution_count": 2,
      "outputs": []
    },
    {
      "cell_type": "code",
      "source": [
        "bmi_calculator(name1, height_m1, weight_kg1)\n"
      ],
      "metadata": {
        "colab": {
          "base_uri": "https://localhost:8080/",
          "height": 53
        },
        "id": "C8WbRVXpNS2v",
        "outputId": "52612f15-ca86-49a0-b7cc-72a1fde329bf"
      },
      "execution_count": 3,
      "outputs": [
        {
          "output_type": "stream",
          "name": "stdout",
          "text": [
            "bmi: 30.189590629151066\n"
          ]
        },
        {
          "output_type": "execute_result",
          "data": {
            "text/plain": [
              "'John is overweight'"
            ],
            "application/vnd.google.colaboratory.intrinsic+json": {
              "type": "string"
            }
          },
          "metadata": {},
          "execution_count": 3
        }
      ]
    },
    {
      "cell_type": "code",
      "source": [
        "bmi_calculator(name2, height_m2, weight_kg2)\n"
      ],
      "metadata": {
        "colab": {
          "base_uri": "https://localhost:8080/",
          "height": 53
        },
        "id": "jrRH6Ru6N6GI",
        "outputId": "1c41e3a7-150b-4b14-fd0e-540ae608720e"
      },
      "execution_count": 4,
      "outputs": [
        {
          "output_type": "stream",
          "name": "stdout",
          "text": [
            "bmi: 68.30134553650707\n"
          ]
        },
        {
          "output_type": "execute_result",
          "data": {
            "text/plain": [
              "'Anna is overweight'"
            ],
            "application/vnd.google.colaboratory.intrinsic+json": {
              "type": "string"
            }
          },
          "metadata": {},
          "execution_count": 4
        }
      ]
    },
    {
      "cell_type": "code",
      "source": [
        "bmi_calculator(name3, height_m2, weight_kg3)"
      ],
      "metadata": {
        "colab": {
          "base_uri": "https://localhost:8080/",
          "height": 53
        },
        "id": "dCBKiEqcOLHv",
        "outputId": "08c9be97-09a0-4c0d-da73-c07525a7dc88"
      },
      "execution_count": 5,
      "outputs": [
        {
          "output_type": "stream",
          "name": "stdout",
          "text": [
            "bmi: 66.25230517041186\n"
          ]
        },
        {
          "output_type": "execute_result",
          "data": {
            "text/plain": [
              "'Charley is overweight'"
            ],
            "application/vnd.google.colaboratory.intrinsic+json": {
              "type": "string"
            }
          },
          "metadata": {},
          "execution_count": 5
        }
      ]
    }
  ]
}